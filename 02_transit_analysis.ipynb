{
 "cells": [
  {
   "cell_type": "markdown",
   "metadata": {},
   "source": [
    "# 2.1 Transit light curve analysis of WASP-12b \n",
    "\n",
    "### Universidad de La Laguna Exo & Exo 2022 exercise 2\n",
    "\n",
    "Author: [Hannu Parviainen](mailto:hannu@iac.es)<br>\n",
    "Last updated: 1.5.2022\n",
    "\n",
    "## Initialisation"
   ]
  },
  {
   "cell_type": "code",
   "execution_count": 1,
   "metadata": {},
   "outputs": [],
   "source": [
    "%matplotlib inline "
   ]
  },
  {
   "cell_type": "code",
   "execution_count": 2,
   "metadata": {},
   "outputs": [],
   "source": [
    "import math as mt\n",
    "import pandas as pd\n",
    "import warnings\n",
    "import seaborn as sb\n",
    "\n",
    "from matplotlib.pyplot import subplots, setp, rc, Rectangle\n",
    "from numpy import argmax, array, median, seterr, floor, percentile\n",
    "from numpy.random import seed, permutation\n",
    "from astropy.table import Table\n",
    "from corner import corner\n",
    "\n",
    "from pytransit import TransitLPF\n",
    "\n",
    "seterr('ignore')\n",
    "seed(0)"
   ]
  },
  {
   "cell_type": "markdown",
   "metadata": {},
   "source": [
    "### Read in the data\n",
    "\n",
    "First we need to read in the light curve stored in ``wasp-12b_181227_chromatic_k.fits``. The file has light curves for a single transit observed simultaneously in four passbands (g, r, i, and z_s), but we keep things simple and use only the r-band data. \n",
    "\n",
    "In our case, the photometry is saved as binary table extensions in the fits file, one extension per passband. To get the r-band data, we need to read the third HDU of the fits file (the first is the primary HDU, the second the first extension, etc.).\n",
    "\n",
    "We start the same way as with the RV data and take a look at our data and try plotting it."
   ]
  },
  {
   "cell_type": "code",
   "execution_count": 3,
   "metadata": {},
   "outputs": [
    {
     "data": {
      "text/html": [
       "<div><i>Table length=5</i>\n",
       "<table id=\"table2696728029696\" class=\"table-striped table-bordered table-condensed\">\n",
       "<thead><tr><th>time_bjd</th><th>flux</th><th>flux_rel</th><th>flux_trg</th><th>flux_ref</th><th>baseline</th><th>model</th></tr></thead>\n",
       "<thead><tr><th>float64</th><th>float64</th><th>float64</th><th>float64</th><th>float64</th><th>float64</th><th>float64</th></tr></thead>\n",
       "<tr><td>2458480.557361179</td><td>1.0001350941062013</td><td>1.016282780690799</td><td>1.0234186998514527</td><td>1.0070215881802143</td><td>1.0161455054219737</td><td>1.0</td></tr>\n",
       "<tr><td>2458480.558397079</td><td>1.0000222850175708</td><td>1.0167163747091499</td><td>1.0256873377854854</td><td>1.0088234667007323</td><td>1.0166937176717874</td><td>1.0</td></tr>\n",
       "<tr><td>2458480.5587828704</td><td>0.999633046547194</td><td>1.0162828378132795</td><td>1.0244264276468822</td><td>1.0080131136044028</td><td>1.016655903207277</td><td>1.0</td></tr>\n",
       "<tr><td>2458480.5594445122</td><td>1.0004227218395325</td><td>1.0169303171289636</td><td>1.0232086525273774</td><td>1.0061738108232814</td><td>1.016500620116942</td><td>1.0</td></tr>\n",
       "<tr><td>2458480.5602084063</td><td>0.9981259684100012</td><td>1.0146302762017558</td><td>1.021813766379826</td><td>1.0070799091516973</td><td>1.0165352954577924</td><td>1.0</td></tr>\n",
       "</table></div>"
      ],
      "text/plain": [
       "<Table length=5>\n",
       "     time_bjd             flux        ...      baseline       model \n",
       "     float64            float64       ...      float64       float64\n",
       "------------------ ------------------ ... ------------------ -------\n",
       " 2458480.557361179 1.0001350941062013 ... 1.0161455054219737     1.0\n",
       " 2458480.558397079 1.0000222850175708 ... 1.0166937176717874     1.0\n",
       "2458480.5587828704  0.999633046547194 ...  1.016655903207277     1.0\n",
       "2458480.5594445122 1.0004227218395325 ...  1.016500620116942     1.0\n",
       "2458480.5602084063 0.9981259684100012 ... 1.0165352954577924     1.0"
      ]
     },
     "execution_count": 3,
     "metadata": {},
     "output_type": "execute_result"
    }
   ],
   "source": [
    "tb = Table.read('data/wasp-12b_181227_chromatic_k.fits', 2)\n",
    "tb[:5]"
   ]
  },
  {
   "cell_type": "markdown",
   "metadata": {},
   "source": [
    "Now, we can assume the time data is stored in the ``time_bjd`` column and the flux the ``flux`` column. In general, if you'd see a file like this, you should check the file's documentation (if such exists) what column is what, or ask the person who created the file."
   ]
  },
  {
   "cell_type": "code",
   "execution_count": 4,
   "metadata": {},
   "outputs": [
    {
     "data": {
      "image/png": "[encoded data removed]",
      "text/plain": [
       "<Figure size 936x360 with 1 Axes>"
      ]
     },
     "metadata": {
      "needs_background": "light"
     },
     "output_type": "display_data"
    }
   ],
   "source": [
    "tref = floor(tb['time_bjd'].mean())\n",
    "fig, ax = subplots(figsize=(13,5), sharey=True)\n",
    "ax.plot(tb['time_bjd'] - tref, tb['flux'], drawstyle='steps-mid')\n",
    "setp(ax, xlabel=f\"Time - {tref:.0f} [BJD]\", ylabel='Normalised flux', xlim=tb['time_bjd'][[0,-1]]-tref)\n",
    "fig.tight_layout()"
   ]
  },
  {
   "cell_type": "markdown",
   "metadata": {},
   "source": [
    "## Parameter estimation\n",
    "\n",
    "First, we create an instance of the log posterior function with the redmost light curve data.\n",
    "\n",
    "Next, we run the *DE* optimiser for ``de_iter`` iterations to clump the parameter vector population close to the global posterior maximum, use the *DE* population to initialise the *emcee* sampler, and run the sampler for ``mc_iter`` iterations to obtain a posterior sample."
   ]
  },
  {
   "cell_type": "markdown",
   "metadata": {},
   "source": [
    "### Initialise the LPF and set the priors"
   ]
  },
  {
   "cell_type": "code",
   "execution_count": 5,
   "metadata": {},
   "outputs": [
    {
     "data": {
      "text/plain": [
       "[  0 |G| tc             N(μ = 0.0, σ = 0.1)                      [    -inf ..      inf],\n",
       "   1 |G| p              N(μ = 1.0, σ = 1e-05)                    [    0.00 ..      inf],\n",
       "   2 |G| rho            U(a = 0.1, b = 25.0)                     [    0.00 ..      inf],\n",
       "   3 |G| b              U(a = 0.0, b = 1.0)                      [    0.00 ..     1.00],\n",
       "   4 |P| k2             U(a = 0.0025, b = 0.04)                  [    0.00 ..      inf],\n",
       "   5 |P| q1_r           U(a = 0, b = 1)                          [    0.00 ..     1.00],\n",
       "   6 |P| q2_r           U(a = 0, b = 1)                          [    0.00 ..     1.00],\n",
       "   7 |L| wn_loge_0      U(a = -4, b = 0)                         [    -inf ..      inf]]"
      ]
     },
     "execution_count": 5,
     "metadata": {},
     "output_type": "execute_result"
    }
   ],
   "source": [
    "lpf = TransitLPF('WASP-12b', 'r', tb['time_bjd'], tb['flux'])\n",
    "lpf.ps"
   ]
  },
  {
   "cell_type": "markdown",
   "metadata": {},
   "source": [
    "tc = transit center\n",
    "\n",
    "p = orbital period (like in the rv)\n",
    "\n",
    "rho = stellar density, g/c^3, it affects the orbital velocity of the planet and therefore the transit duration\n",
    "\n",
    "b = related to inclination\n",
    "\n",
    "k2 = area ratio: planet area / star area\n",
    "\n",
    "q1r, q2r = limb darkening parameters\n",
    "\n",
    "wn_loge_0 = white noise parameter\n",
    "\n",
    "To obtain the major axis we use Kepler laws, knowing p, b, and maybe others?"
   ]
  },
  {
   "cell_type": "code",
   "execution_count": 6,
   "metadata": {},
   "outputs": [],
   "source": [
    "#we set some of the priors\n",
    "lpf.set_prior('tc', 'NP', 2458480.65, 0.02)\n",
    "lpf.set_prior('p', 'NP', 1.0914201, 1.1e-09)"
   ]
  },
  {
   "cell_type": "code",
   "execution_count": 7,
   "metadata": {},
   "outputs": [
    {
     "data": {
      "text/plain": [
       "[  0 |G| tc             N(μ = 2458480.65, σ = 0.02)              [    -inf ..      inf],\n",
       "   1 |G| p              N(μ = 1.0914201, σ = 1.1e-09)            [    0.00 ..      inf],\n",
       "   2 |G| rho            U(a = 0.1, b = 25.0)                     [    0.00 ..      inf],\n",
       "   3 |G| b              U(a = 0.0, b = 1.0)                      [    0.00 ..     1.00],\n",
       "   4 |P| k2             U(a = 0.0025, b = 0.04)                  [    0.00 ..      inf],\n",
       "   5 |P| q1_r           U(a = 0, b = 1)                          [    0.00 ..     1.00],\n",
       "   6 |P| q2_r           U(a = 0, b = 1)                          [    0.00 ..     1.00],\n",
       "   7 |L| wn_loge_0      U(a = -4, b = 0)                         [    -inf ..      inf]]"
      ]
     },
     "execution_count": 7,
     "metadata": {},
     "output_type": "execute_result"
    }
   ],
   "source": [
    "lpf.ps"
   ]
  },
  {
   "cell_type": "code",
   "execution_count": 8,
   "metadata": {},
   "outputs": [
    {
     "data": {
      "application/vnd.jupyter.widget-view+json": {
       "model_id": "f03289342b984a87b8bdbc41d3b1bd1c",
       "version_major": 2,
       "version_minor": 0
      },
      "text/plain": [
       "HBox(children=(HTML(value='Global optimisation'), FloatProgress(value=0.0, max=500.0), HTML(value='')))"
      ]
     },
     "metadata": {},
     "output_type": "display_data"
    },
    {
     "data": {
      "image/png": "[encoded data removed]",
      "text/plain": [
       "<Figure size 936x144 with 5 Axes>"
      ]
     },
     "metadata": {
      "needs_background": "light"
     },
     "output_type": "display_data"
    }
   ],
   "source": [
    "lpf.optimize_global(niter=500, npop=50) #optimize the models"
   ]
  },
  {
   "cell_type": "code",
   "execution_count": 9,
   "metadata": {},
   "outputs": [
    {
     "data": {
      "image/png": "[encoded data removed]",
      "text/plain": [
       "<Figure size 936x288 with 1 Axes>"
      ]
     },
     "metadata": {
      "needs_background": "light"
     },
     "output_type": "display_data"
    }
   ],
   "source": [
    "lpf.plot_light_curve();"
   ]
  },
  {
   "cell_type": "code",
   "execution_count": null,
   "metadata": {
    "scrolled": false
   },
   "outputs": [
    {
     "data": {
      "application/vnd.jupyter.widget-view+json": {
       "model_id": "7a7c17728d0948e1827c06a822bed4b3",
       "version_major": 2,
       "version_minor": 0
      },
      "text/plain": [
       "HBox(children=(HTML(value='MCMC sampling'), FloatProgress(value=0.0, max=2.0), HTML(value='')))"
      ]
     },
     "metadata": {},
     "output_type": "display_data"
    },
    {
     "data": {
      "application/vnd.jupyter.widget-view+json": {
       "model_id": "166ac070b0f94bce902f4b2b4d00328c",
       "version_major": 2,
       "version_minor": 0
      },
      "text/plain": [
       "HBox(children=(HTML(value='Run 1/2'), FloatProgress(value=0.0, max=5000.0), HTML(value='')))"
      ]
     },
     "metadata": {},
     "output_type": "display_data"
    }
   ],
   "source": [
    "lpf.sample_mcmc(5000, thin=20, repeats=2, label='MCMC sampling')"
   ]
  },
  {
   "cell_type": "code",
   "execution_count": null,
   "metadata": {
    "scrolled": true
   },
   "outputs": [],
   "source": [
    "lpf.plot_light_curve('mc');"
   ]
  },
  {
   "cell_type": "markdown",
   "metadata": {},
   "source": [
    "### Analysis: overview\n",
    "\n",
    "The MCMC chains are now stored in ``lpf.sampler.chain``. Let's first have a look into how the chain populations evolved to see if we have any problems with our setup, whether we have converged to sample the true posterior distribution, and, if so, what was the burn-in time."
   ]
  },
  {
   "cell_type": "code",
   "execution_count": null,
   "metadata": {},
   "outputs": [],
   "source": [
    "fig, axs = subplots(2,4, figsize=(13,5), sharex=True)\n",
    "ls, lc = ['-','--','--'], ['k', '0.5', '0.5']\n",
    "percs = [percentile(lpf.sampler.chain[:,:,i], [50,16,84], 0) for i in range(8)]\n",
    "[axs.flat[i].plot(lpf.sampler.chain[:,:,i].T, 'k', alpha=0.01) for i in range(8)]\n",
    "[[axs.flat[i].plot(percs[i][j], c=lc[j], ls=ls[j]) for j in range(3)] for i in range(8)]\n",
    "setp(axs, yticks=[], xlim=[0,5000//20])\n",
    "fig.tight_layout()"
   ]
  },
  {
   "cell_type": "markdown",
   "metadata": {},
   "source": [
    "Ok, everything looks good. The 16th, 50th and 84th percentiles of the parameter vector population are stable and don't show any significant long-term trends. Now we can flatten the individual chains into one long chain ``fc`` and calculate the median parameter vector."
   ]
  },
  {
   "cell_type": "code",
   "execution_count": null,
   "metadata": {},
   "outputs": [],
   "source": [
    "fc = lpf.sampler.chain.reshape([-1,lpf.sampler.chain.shape[-1]])\n",
    "mp = median(fc, 0)"
   ]
  },
  {
   "cell_type": "markdown",
   "metadata": {},
   "source": [
    "Let's also plot the model and the data to see if this all makes sense. To do this, we calculate the conditional distribution of flux using the posterior samples (here, we're using a random subset of samples, although this isn't really necessary), and plot the distribution median and it's median-centred 68%, 95%, and 99.7% central posterior intervals (corresponding approximately to 1, 2, and 3$\\sigma$ intervals if the distribution is normal). "
   ]
  },
  {
   "cell_type": "code",
   "execution_count": null,
   "metadata": {},
   "outputs": [],
   "source": [
    "flux_pr = lpf.flux_model(fc[permutation(fc.shape[0])[:1000]])\n",
    "flux_pc = array(percentile(flux_pr, [50, 0.15,99.85, 2.5,97.5, 16,84], 0))"
   ]
  },
  {
   "cell_type": "code",
   "execution_count": null,
   "metadata": {},
   "outputs": [],
   "source": [
    "zx1,zx2,zy1,zy2 = 0.69,0.71, 0.983, 0.992\n",
    "tref = floor(lpf.timea.min())\n",
    "fig, ax = subplots(1,1, figsize=(13,4))\n",
    "ax.errorbar(lpf.timea-tref, lpf.ofluxa, 10**mp[7], fmt='.', c='C1', alpha=0.75)\n",
    "[ax.fill_between(lpf.timea-tref,*flux_pc[i:i+2,:],alpha=0.2,facecolor='C0') for i in range(1,6,2)]\n",
    "ax.plot(lpf.timea-tref, flux_pc[0], c='C0')\n",
    "setp(ax, xlim=lpf.timea[[0,-1]]-tref, xlabel=f'Time - {tref:.0f} [BJD]', ylabel='Normalised flux')\n",
    "fig.tight_layout()\n",
    "\n",
    "az = fig.add_axes([0.075,0.18,0.20,0.46])\n",
    "ax.add_patch(Rectangle((zx1,zy1),zx2-zx1,zy2-zy1,fill=False,edgecolor='k',lw=1,ls='dashed'))\n",
    "[az.fill_between(lpf.timea-tref,*flux_pc[i:i+2,:],alpha=0.2,facecolor='C0') for i in range(1,6,2)]\n",
    "setp(az, xlim=(zx1,zx2), ylim=(zy1,zy2), yticks=[], xticks=[])\n",
    "az.plot(lpf.timea-tref, flux_pc[0], c='C0');"
   ]
  },
  {
   "cell_type": "markdown",
   "metadata": {},
   "source": [
    "We could (should) also plot the residuals, but I've left them out from the plot for clarity. The plot looks fine, and we can continue to have a look at the parameter estimates."
   ]
  },
  {
   "cell_type": "markdown",
   "metadata": {},
   "source": [
    "## Analysis"
   ]
  },
  {
   "cell_type": "markdown",
   "metadata": {},
   "source": [
    "We start the analysis by making a Pandas data frame ``df``, using the ``df.describe`` to gen an overview of the estimates, and plotting the posteriors for the most interesting parameters as violin plots."
   ]
  },
  {
   "cell_type": "code",
   "execution_count": null,
   "metadata": {},
   "outputs": [],
   "source": [
    "pd.set_option('display.precision',4)\n",
    "df = lpf.posterior_samples(derived_parameters=True)\n",
    "df.describe()"
   ]
  },
  {
   "cell_type": "code",
   "execution_count": null,
   "metadata": {},
   "outputs": [],
   "source": [
    "df.tc.hist(bins=50)"
   ]
  },
  {
   "cell_type": "code",
   "execution_count": null,
   "metadata": {
    "scrolled": true
   },
   "outputs": [],
   "source": [
    "fig, axs = subplots(1,4, figsize=(13,3))\n",
    "pars = 'tc rho b k'.split()\n",
    "[sb.violinplot(y=df[p], inner='quartile', ax=axs.flat[i]) for i,p in enumerate(pars)]\n",
    "[axs.flat[i].text(0.05,0.9, p, transform=axs.flat[i].transAxes) for i,p in enumerate(pars)]\n",
    "setp(axs, xticks=[], ylabel='')\n",
    "fig.tight_layout()"
   ]
  },
  {
   "cell_type": "markdown",
   "metadata": {},
   "source": [
    "While we're at it, let's plot some correlation plots. The limb darkening coefficients are correlated, and we'd also expect to see a correlation between the impact parameter and radius ratio."
   ]
  },
  {
   "cell_type": "code",
   "execution_count": null,
   "metadata": {},
   "outputs": [],
   "source": []
  },
  {
   "cell_type": "code",
   "execution_count": null,
   "metadata": {},
   "outputs": [],
   "source": [
    "ccols = ['k', 'rho', 'b', 'q1_r', 'q2_r']\n",
    "corner(df[ccols], labels=ccols);"
   ]
  },
  {
   "cell_type": "markdown",
   "metadata": {},
   "source": [
    "Here the posteriors aren't as normal as in the rv analysis. The marginal posterior distributions are not as normal as we'd like, and there are many correlations between all of the parameters. "
   ]
  },
  {
   "cell_type": "markdown",
   "metadata": {},
   "source": [
    "### <span style=\"color:darkblue\">Questions and exercises</span>\n",
    "\n",
    "1. Estimate the radius of the planet using the planet-star radius ratio (k) and the stellar radius (that you need to find from somewhere ;)) Give the answer in Jupiter radii.\n",
    "\n",
    "$$\\frac{R_P}{R_J}=k \\frac{R_{star}}{R_\\odot} \\frac{R_\\odot}{R_J}$$"
   ]
  },
  {
   "cell_type": "code",
   "execution_count": null,
   "metadata": {},
   "outputs": [],
   "source": [
    "import numpy as np\n",
    "k_mean=np.median(df.k)\n",
    "\n",
    "Rjup=69911 #km\n",
    "Rsun=696340 #km\n",
    "Rstar=1.657 #solar radius\n",
    "\n",
    "Rp=k_mean*Rstar*Rsun/Rjup\n",
    "print('The planet radius is',Rp,'Jupiter radii')"
   ]
  },
  {
   "cell_type": "markdown",
   "metadata": {},
   "source": [
    "2. Compare the stellar density ($\\rho$) estimated from the transit modelling to the theoretical stellar density for a WASP-12-like star."
   ]
  },
  {
   "cell_type": "code",
   "execution_count": null,
   "metadata": {},
   "outputs": [],
   "source": [
    "rho_med=np.median(df.rho)\n",
    "\n",
    "Mstar=1.35 #in solar masses\n",
    "Rstar=1.57 #in solar radii\n",
    "Rsun=696340e5 #cm\n",
    "Msun=1.9891e33 #g\n",
    "\n",
    "rho_th=Mstar*Msun/(4/3*np.pi*(Rstar*Rsun)**3)\n",
    "\n",
    "print('Estimated density in g/cm^3 = ', rho_med)\n",
    "print('Theoretical density in g/cm^3 = ', rho_th)"
   ]
  },
  {
   "cell_type": "markdown",
   "metadata": {},
   "source": [
    "3. From the plot above you can see that many of the parameters are correlated with each other. What does this mean in practice?"
   ]
  },
  {
   "cell_type": "markdown",
   "metadata": {},
   "source": [
    "- Many parameters are correlated with each other. This means that if one of the parameters changes a little bit, the others will change a lot, too. Therefore, the fit is not very exact, because the value of each parameter depends a lot on all the others. "
   ]
  },
  {
   "cell_type": "markdown",
   "metadata": {},
   "source": [
    "---\n",
    "<center>&copy; Hannu Parviainen 2014&ndash;2022</center>"
   ]
  }
 ],
 "metadata": {
  "kernelspec": {
   "display_name": "Python 3",
   "language": "python",
   "name": "python3"
  },
  "language_info": {
   "codemirror_mode": {
    "name": "ipython",
    "version": 3
   },
   "file_extension": ".py",
   "mimetype": "text/x-python",
   "name": "python",
   "nbconvert_exporter": "python",
   "pygments_lexer": "ipython3",
   "version": "3.8.5"
  }
 },
 "nbformat": 4,
 "nbformat_minor": 1
}
